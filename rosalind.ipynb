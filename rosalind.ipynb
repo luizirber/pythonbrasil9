{
 "metadata": {
  "name": ""
 },
 "nbformat": 3,
 "nbformat_minor": 0,
 "worksheets": [
  {
   "cells": [
    {
     "cell_type": "markdown",
     "metadata": {
      "slideshow": {
       "slide_type": "slide"
      }
     },
     "source": [
      "# Aprendendo bioinform\u00e1tica com Rosalind\n",
      "\n",
      "Luiz Irber\n",
      "\n",
      "[luizirber.org](http://luizirber.org)"
     ]
    },
    {
     "cell_type": "markdown",
     "metadata": {
      "slideshow": {
       "slide_type": "slide"
      }
     },
     "source": [
      "## Genomas\n",
      "\n",
      "  - DNA:\n",
      "     * 4 bases: A, G, C, T\n",
      "     * G liga com C, A liga com T\n",
      "     * Dupla h\u00e9lice (complementares)\n",
      "  - RNA:\n",
      "     * 4 bases: A, G, C, U\n",
      "     * G liga com C, A liga com U\n",
      "     * S\u00edntese de prote\u00ednas"
     ]
    },
    {
     "cell_type": "markdown",
     "metadata": {
      "slideshow": {
       "slide_type": "slide"
      }
     },
     "source": [
      "## Sequenciamento de genomas\n",
      " \n",
      "- Sanger (1977)\n",
      "     * Leituras longas (400-700 bp)\n",
      "     * Usado para o sequenciamento do genoma humano (3 Mbp)\n",
      "     * Custo para 1M bp: US\\$ 2400"
     ]
    },
    {
     "cell_type": "markdown",
     "metadata": {
      "slideshow": {
       "slide_type": "fragment"
      }
     },
     "source": [
      "- Shotgun sequencing\n",
      "     * Quebrar cadeias longas de DNA\n",
      "     * Remontar a cadeia original computacionalmente\n",
      "     * Tipicamente cobertura de 6x"
     ]
    },
    {
     "cell_type": "markdown",
     "metadata": {
      "slideshow": {
       "slide_type": "fragment"
      }
     },
     "source": [
      "- Next generation sequencing\n",
      "    * leituras curtas (50-400 bp)\n",
      "    * alta cobertura (10-100x)\n",
      "    * Custo para 1M bp: US\\$ 0.05 a US\\$ 10\n",
      "    * Por\u00e9m custo computacional dispara"
     ]
    },
    {
     "cell_type": "markdown",
     "metadata": {
      "slideshow": {
       "slide_type": "slide"
      }
     },
     "source": [
      "![Custo por megabase](images/cost_per_megabase.jpg \"www.genome.gov/sequencingcosts/\")"
     ]
    },
    {
     "cell_type": "markdown",
     "metadata": {
      "slideshow": {
       "slide_type": "slide"
      }
     },
     "source": [
      "![Custo por genoma](images/cost_per_genome.jpg \"www.genome.gov/sequencingcosts/\")"
     ]
    },
    {
     "cell_type": "markdown",
     "metadata": {
      "slideshow": {
       "slide_type": "slide"
      }
     },
     "source": [
      "## Bioinform\u00e1tica\n",
      "\n",
      " - Computa\u00e7\u00e3o aplicada a problemas biol\u00f3gicos\n",
      "     * Principalmente gen\u00f4mica e relacionados\n",
      " - Uma via de duas m\u00e3os:\n",
      "     * Algoritmos cl\u00e1ssicos de strings, grafos, programa\u00e7\u00e3o din\u00e2mica\n",
      "     * Problemas for\u00e7ando a cria\u00e7\u00e3o de novos algoritmos\n",
      "         - Principalmente devido \u00e0 escala"
     ]
    },
    {
     "cell_type": "markdown",
     "metadata": {
      "slideshow": {
       "slide_type": "slide"
      }
     },
     "source": [
      "## Rosalind\n",
      "\n",
      "  - Plataforma para aprendizado atrav\u00e9s de solu\u00e7\u00e3o de problemas\n",
      "  - Inspirado pelo Project Euler e Google Code Jam\n",
      "  - Nome em homenagem a Rosalind Franklin\n",
      "      * Cristalografia de raios X"
     ]
    },
    {
     "cell_type": "markdown",
     "metadata": {
      "slideshow": {
       "slide_type": "slide"
      }
     },
     "source": [
      "## Escolhendo problemas\n",
      "\n",
      "![Lista](images/lista.png \"http://rosalind.info/problems/list-view/\")"
     ]
    },
    {
     "cell_type": "markdown",
     "metadata": {
      "slideshow": {
       "slide_type": "subslide"
      }
     },
     "source": [
      "## Escolhendo problemas\n",
      "\n",
      "![\u00c1rvore](images/arvore.png \"http://rosalind.info/problems/tree-view/\")"
     ]
    },
    {
     "cell_type": "markdown",
     "metadata": {
      "slideshow": {
       "slide_type": "subslide"
      }
     },
     "source": [
      "## Escolhendo problemas\n",
      "\n",
      "![T\u00f3picos](images/topicos.png \"http://rosalind.info/problems/topics/\")"
     ]
    },
    {
     "cell_type": "markdown",
     "metadata": {
      "slideshow": {
       "slide_type": "subslide"
      }
     },
     "source": [
      "## Escolhendo problemas\n",
      "\n",
      "![Locais](images/locais.png)"
     ]
    },
    {
     "cell_type": "markdown",
     "metadata": {
      "slideshow": {
       "slide_type": "slide"
      }
     },
     "source": [
      "## Gamifica\u00e7\u00e3o!\n",
      "\n",
      "![](images/gamificacao.png)"
     ]
    },
    {
     "cell_type": "markdown",
     "metadata": {
      "slideshow": {
       "slide_type": "slide"
      }
     },
     "source": [
      "## Anatomia de um problema\n",
      "\n",
      " - http://rosalind.info/problems/dna/\n",
      " - Descri\u00e7\u00e3o\n",
      "     * Especifica\u00e7\u00e3o da entrada\n",
      "     * Especifica\u00e7\u00e3o da sa\u00edda\n",
      " - Entrada exemplo\n",
      " - Sa\u00edda exemplo"
     ]
    },
    {
     "cell_type": "markdown",
     "metadata": {
      "slideshow": {
       "slide_type": "subslide"
      }
     },
     "source": [
      " ![Anatomia de um problema](images/anatomia.png)"
     ]
    },
    {
     "cell_type": "markdown",
     "metadata": {
      "slideshow": {
       "slide_type": "subslide"
      }
     },
     "source": [
      "![Submiss\u00e3o](images/submission.png \"Submiss\u00e3o\")"
     ]
    },
    {
     "cell_type": "markdown",
     "metadata": {
      "slideshow": {
       "slide_type": "subslide"
      }
     },
     "source": [
      "## N\u00e3o ignore a explica\u00e7\u00e3o!\n",
      "\n",
      "![](images/explicacao.png)"
     ]
    },
    {
     "cell_type": "markdown",
     "metadata": {
      "slideshow": {
       "slide_type": "slide"
      }
     },
     "source": [
      "## Aprendizado\n",
      "\n",
      " - Python 2/3"
     ]
    },
    {
     "cell_type": "code",
     "collapsed": false,
     "input": [
      "from __future__ import print_function, division"
     ],
     "language": "python",
     "metadata": {},
     "outputs": [],
     "prompt_number": 9
    },
    {
     "cell_type": "markdown",
     "metadata": {},
     "source": [
      "- Cuidados com dict (items, values e keys retornam views no Python 3)\n",
      "- from functools import reduce"
     ]
    },
    {
     "cell_type": "markdown",
     "metadata": {
      "slideshow": {
       "slide_type": "subslide"
      }
     },
     "source": [
      " - List comprehensions vs map/filter\n",
      " \n",
      " List comprehensions provide an alternative to using the built-in map() and filter() functions. map(f, S) is equivalent to [f(x) for x in S] while filter(P, S) is equivalent to [x for x in S if P(x)]. **One would think that list comprehensions have little to recommend themselves over the seemingly more compact map() and filter() notations. However, the picture changes if one looks at a more realistic example.** Suppose we want to add 1 to the elements of a list, producing a new list. The list comprehension solution is [x+1 for x in S]. The solution using map() is map(lambda x: x+1, S). The part \u201clambda x: x+1\u201d is Python\u2019s notation for an anonymous function defined in-line."
     ]
    },
    {
     "cell_type": "markdown",
     "metadata": {
      "slideshow": {
       "slide_type": "fragment"
      }
     },
     "source": [
      "  It has been argued that the real problem here is that Python\u2019s lambda notation is too verbose, and that a more concise notation for anonymous functions would make map() more attractive. Personally, I disagree\u2014**I find the list comprehension notation much easier to read than the functional notation, especially as the complexity of the expression to be mapped increases.** In addition, the list comprehension executes much faster than the solution using map and lambda. This is because calling a lambda function creates a new stack frame while the expression in the list comprehension is evaluated without creating a new stack frame."
     ]
    },
    {
     "cell_type": "markdown",
     "metadata": {
      "slideshow": {
       "slide_type": "fragment"
      }
     },
     "source": [
      "http://python-history.blogspot.com.br/2010/06/from-list-comprehensions-to-generator.html"
     ]
    },
    {
     "cell_type": "markdown",
     "metadata": {
      "slideshow": {
       "slide_type": "subslide"
      }
     },
     "source": [
      "    -    return map(dna.count, order)\n",
      "    +    return [dna.count(o) for o in order]"
     ]
    },
    {
     "cell_type": "markdown",
     "metadata": {
      "slideshow": {
       "slide_type": "fragment"
      }
     },
     "source": [
      "    -from itertools import starmap\n",
      "    -import operator\n",
      "\n",
      "     def hamming(s1, s2):\n",
      "    -    return sum(starmap(operator.ne, zip(s1, s2)))\n",
      "    +    return sum(a != b for a, b in zip(s1, s2))"
     ]
    },
    {
     "cell_type": "markdown",
     "metadata": {
      "slideshow": {
       "slide_type": "subslide"
      }
     },
     "source": [
      " - Usando context manager para lidar com arquivos"
     ]
    },
    {
     "cell_type": "code",
     "collapsed": false,
     "input": [
      "with open('rosalind_dna.txt') as dataset:\n",
      "    dna = dataset.readline().rstrip()"
     ],
     "language": "python",
     "metadata": {},
     "outputs": []
    },
    {
     "cell_type": "markdown",
     "metadata": {
      "slideshow": {
       "slide_type": "subslide"
      }
     },
     "source": [
      " - Sets FTW!"
     ]
    },
    {
     "cell_type": "markdown",
     "metadata": {},
     "source": [
      "    with open(os.path.join('data', 'rosalind_dbru.txt')) as dataset:\n",
      "        dna_set = {s.rstrip() for s in dataset}\n",
      "\n",
      "    reverse_complements = {reverse_complement(s) for s in dna_set}\n",
      "    dna_strings = dna_set | reverse_complements"
     ]
    },
    {
     "cell_type": "markdown",
     "metadata": {
      "slideshow": {
       "slide_type": "slide"
      }
     },
     "source": [
      "## Novidades\n",
      "\n",
      " - https://www.coursera.org/course/bioinformatics\n",
      "     * Come\u00e7a dia 21\n",
      "     * Livro-texto dispon\u00edvel:  \n",
      "     https://beta.stepic.org/Bioinformatics-Algorithms-2/"
     ]
    },
    {
     "cell_type": "markdown",
     "metadata": {
      "slideshow": {
       "slide_type": "slide"
      }
     },
     "source": [
      "# Obrigado\n",
      "\n",
      "luizirber.org\n",
      "\n",
      "luiz.irber@gmail.com"
     ]
    }
   ],
   "metadata": {}
  }
 ]
}