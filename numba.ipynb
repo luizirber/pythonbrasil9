{
 "metadata": {
  "name": ""
 },
 "nbformat": 3,
 "nbformat_minor": 0,
 "worksheets": [
  {
   "cells": [
    {
     "cell_type": "markdown",
     "metadata": {
      "slideshow": {
       "slide_type": "slide"
      }
     },
     "source": [
      "# Numba, um compilador Python de alto desempenho\n",
      "\n",
      "Luiz Irber\n",
      "\n",
      "[luizirber.org](http://luizirber.org)"
     ]
    },
    {
     "cell_type": "markdown",
     "metadata": {
      "slideshow": {
       "slide_type": "slide"
      }
     },
     "source": [
      "## Por que Python \u00e9 lento?\n",
      "\n",
      "  - Tipagem din\u00e2mica\n",
      "  - Lookup de atributos\n",
      "  - a[1]\n",
      "      * Mesmo no Numpy"
     ]
    },
    {
     "cell_type": "markdown",
     "metadata": {
      "slideshow": {
       "slide_type": "slide"
      }
     },
     "source": [
      "## Qual a abordagem atual?\n",
      "\n",
      " - Escrever parte cr\u00edtica em C/C++/Fortran e encapsular\n",
      "    * SWIG\n",
      "    * ctypes\n",
      "    * Cython\n",
      "    * f2py\n",
      "    * CPython API\n",
      " - Escrever diretamente em Cython\n",
      "    * Depois de aprender os atalhos e detalhes..."
     ]
    },
    {
     "cell_type": "markdown",
     "metadata": {
      "slideshow": {
       "slide_type": "slide"
      }
     },
     "source": [
      "## Mas... n\u00e3o d\u00e1 para ser mais f\u00e1cil?\n",
      "\n",
      "###Objetivos do Numba\n",
      "\n",
      " - Funcionar com CPython (e Numpy, Scipy e todo o stack cient\u00edfico)\n",
      " - Modifica\u00e7\u00f5es m\u00ednimas no c\u00f3digo (infer\u00eancia de tipos)\n",
      " - O programador decidir o que deve ser acelerado ou n\u00e3o\n",
      " - Possibilitar a cria\u00e7\u00e3o de extens\u00f5es est\u00e1ticas (para bibliotecas)\n",
      " - Produzir c\u00f3digo t\u00e3o r\u00e1pido quanto C (at\u00e9 mesmo Fortran?)\n",
      " - Suportar array-expressions do Numpy e cria\u00e7\u00e3o de ufuncs\n",
      " - Produzir c\u00f3digo para hardware vetorial (GPUs, aceleradoras, many-core)"
     ]
    },
    {
     "cell_type": "markdown",
     "metadata": {
      "slideshow": {
       "slide_type": "slide"
      }
     },
     "source": [
      "## LLVM\n",
      "\n",
      " - Prov\u00ea a infraestrutura\n",
      " \n",
      "![](images/numba1.png)"
     ]
    },
    {
     "cell_type": "markdown",
     "metadata": {
      "slideshow": {
       "slide_type": "slide"
      }
     },
     "source": [
      "![](images/numba_example.png)"
     ]
    },
    {
     "cell_type": "markdown",
     "metadata": {
      "slideshow": {
       "slide_type": "slide"
      }
     },
     "source": [
      "## API simples\n",
      "\n",
      "- Dois decoradores:\n",
      "    * jit: programador especifica tipos\n",
      "    * autojit: detecta tipos de entrada, sa\u00edda, gera c\u00f3digo se necess\u00e1rio, e executa"
     ]
    },
    {
     "cell_type": "code",
     "collapsed": false,
     "input": [
      "from numba import autojit, jit, double\n",
      "\n",
      "#@jit('void(double[:,:], double, double)')\n",
      "@autojit\n",
      "def numba_update(u, dx2, dy2):\n",
      "    nx, ny = u.shape\n",
      "    for i in xrange(1,nx-1):\n",
      "        for j in xrange(1, ny-1):\n",
      "            u[i,j] = ((u[i+1,j] + u[i-1,j]) * dy2 +\n",
      "                      (u[i,j+1] + u[i,j-1]) * dx2) / (2*(dx2+dy2))\n"
     ],
     "language": "python",
     "metadata": {},
     "outputs": [],
     "prompt_number": 1
    },
    {
     "cell_type": "markdown",
     "metadata": {
      "slideshow": {
       "slide_type": "slide"
      }
     },
     "source": [
      "## Comparando desempenho\n",
      "\n",
      "http://jakevdp.github.io/blog/2013/06/15/numba-vs-cython-take-2/"
     ]
    },
    {
     "cell_type": "markdown",
     "metadata": {},
     "source": [
      "\"As before, I'll use a **pairwise distance** function.  This will take an array representing\n",
      "``M`` points in ``N`` dimensions, and return the ``M x M`` matrix of pairwise distances.\n",
      "This is a nice test function for a few reasons.  First of all, it's a very clean and\n",
      "well-defined test.  Second of all, it illustrates the kind of array-based operation that\n",
      "is common in statistics, datamining, and machine learning.  Third, it is a function that\n",
      "results in large memory consumption if the standard numpy broadcasting approach is used\n",
      "(it requires a temporary array containing ``M * M * N``  elements), making it a good\n",
      "candidate for an alternate approach.\""
     ]
    },
    {
     "cell_type": "code",
     "collapsed": false,
     "input": [
      "import numpy as np\n",
      "X = np.random.random((1000, 3))"
     ],
     "language": "python",
     "metadata": {},
     "outputs": [],
     "prompt_number": 2
    },
    {
     "cell_type": "markdown",
     "metadata": {
      "slideshow": {
       "slide_type": "slide"
      }
     },
     "source": [
      "## Python puro"
     ]
    },
    {
     "cell_type": "code",
     "collapsed": false,
     "input": [
      "def pairwise_python(X):\n",
      "    M = X.shape[0]\n",
      "    N = X.shape[1]\n",
      "    D = np.empty((M, M), dtype=np.float)\n",
      "    for i in range(M):\n",
      "        for j in range(M):\n",
      "            d = 0.0\n",
      "            for k in range(N):\n",
      "                tmp = X[i, k] - X[j, k]\n",
      "                d += tmp * tmp\n",
      "            D[i, j] = np.sqrt(d)\n",
      "    return D"
     ],
     "language": "python",
     "metadata": {},
     "outputs": [],
     "prompt_number": 3
    },
    {
     "cell_type": "markdown",
     "metadata": {
      "slideshow": {
       "slide_type": "slide"
      }
     },
     "source": [
      "## Numpy com broadcast"
     ]
    },
    {
     "cell_type": "code",
     "collapsed": false,
     "input": [
      "def pairwise_numpy(X):\n",
      "    return np.sqrt(((X[:, None, :] - X) ** 2).sum(-1))"
     ],
     "language": "python",
     "metadata": {},
     "outputs": [],
     "prompt_number": 4
    },
    {
     "cell_type": "markdown",
     "metadata": {
      "slideshow": {
       "slide_type": "slide"
      }
     },
     "source": [
      "## Numba"
     ]
    },
    {
     "cell_type": "code",
     "collapsed": false,
     "input": [
      "from numba.decorators import autojit\n",
      "\n",
      "pairwise_numba = autojit(pairwise_python)"
     ],
     "language": "python",
     "metadata": {},
     "outputs": [],
     "prompt_number": 5
    },
    {
     "cell_type": "markdown",
     "metadata": {
      "slideshow": {
       "slide_type": "fragment"
      }
     },
     "source": [
      "    @autojit\n",
      "    def pairwise_numba(X):\n",
      "        ..."
     ]
    },
    {
     "cell_type": "markdown",
     "metadata": {
      "slideshow": {
       "slide_type": "slide"
      }
     },
     "source": [
      "## Cython otimizado"
     ]
    },
    {
     "cell_type": "code",
     "collapsed": false,
     "input": [
      "%load_ext cythonmagic"
     ],
     "language": "python",
     "metadata": {},
     "outputs": [],
     "prompt_number": 6
    },
    {
     "cell_type": "code",
     "collapsed": false,
     "input": [
      "%%cython\n",
      "\n",
      "import numpy as np\n",
      "cimport cython\n",
      "from libc.math cimport sqrt\n",
      "\n",
      "@cython.boundscheck(False)\n",
      "@cython.wraparound(False)\n",
      "def pairwise_cython(double[:, ::1] X):\n",
      "    cdef int M = X.shape[0]\n",
      "    cdef int N = X.shape[1]\n",
      "    cdef double tmp, d\n",
      "    cdef double[:, ::1] D = np.empty((M, M), dtype=np.float64)\n",
      "    for i in range(M):\n",
      "        for j in range(M):\n",
      "            d = 0.0\n",
      "            for k in range(N):\n",
      "                tmp = X[i, k] - X[j, k]\n",
      "                d += tmp * tmp\n",
      "            D[i, j] = sqrt(d)\n",
      "    return np.asarray(D)"
     ],
     "language": "python",
     "metadata": {},
     "outputs": [],
     "prompt_number": 7
    },
    {
     "cell_type": "markdown",
     "metadata": {
      "slideshow": {
       "slide_type": "slide"
      }
     },
     "source": [
      "## Fortran (n\u00e3o otimizado!)"
     ]
    },
    {
     "cell_type": "code",
     "collapsed": false,
     "input": [
      "%%file pairwise_fort.f\n",
      "\n",
      "      subroutine pairwise_fort(X,D,m,n)\n",
      "          integer :: n,m\n",
      "          double precision, intent(in) :: X(m,n)\n",
      "          double precision, intent(out) :: D(m,m) \n",
      "          integer :: i,j,k\n",
      "          double precision :: r \n",
      "          do i = 1,m \n",
      "              do j = 1,m \n",
      "                  r = 0\n",
      "                  do k = 1,n \n",
      "                      r = r + (X(i,k) - X(j,k)) * (X(i,k) - X(j,k)) \n",
      "                  end do \n",
      "                  D(i,j) = sqrt(r) \n",
      "              end do \n",
      "          end do \n",
      "      end subroutine pairwise_fort"
     ],
     "language": "python",
     "metadata": {},
     "outputs": [
      {
       "output_type": "stream",
       "stream": "stdout",
       "text": [
        "Overwriting pairwise_fort.f\n"
       ]
      }
     ],
     "prompt_number": 8
    },
    {
     "cell_type": "code",
     "collapsed": false,
     "input": [
      "# Compile the Fortran with f2py.\n",
      "# We'll direct the output into /dev/null so it doesn't fill the screen\n",
      "!f2py -c pairwise_fort.f -m pairwise_fort > /dev/null"
     ],
     "language": "python",
     "metadata": {
      "slideshow": {
       "slide_type": "fragment"
      }
     },
     "outputs": [],
     "prompt_number": 9
    },
    {
     "cell_type": "code",
     "collapsed": false,
     "input": [
      "from pairwise_fort import pairwise_fort\n",
      "XF = np.asarray(X, order='F')"
     ],
     "language": "python",
     "metadata": {
      "slideshow": {
       "slide_type": "fragment"
      }
     },
     "outputs": [],
     "prompt_number": 10
    },
    {
     "cell_type": "markdown",
     "metadata": {
      "slideshow": {
       "slide_type": "slide"
      }
     },
     "source": [
      "## Scipy"
     ]
    },
    {
     "cell_type": "code",
     "collapsed": false,
     "input": [
      "from scipy.spatial.distance import cdist"
     ],
     "language": "python",
     "metadata": {},
     "outputs": [],
     "prompt_number": 11
    },
    {
     "cell_type": "markdown",
     "metadata": {
      "slideshow": {
       "slide_type": "slide"
      }
     },
     "source": [
      "## Scikit-learn"
     ]
    },
    {
     "cell_type": "code",
     "collapsed": false,
     "input": [
      "from sklearn.metrics import euclidean_distances"
     ],
     "language": "python",
     "metadata": {},
     "outputs": [],
     "prompt_number": 12
    },
    {
     "cell_type": "markdown",
     "metadata": {
      "slideshow": {
       "slide_type": "slide"
      }
     },
     "source": [
      "## Medindo tudo!"
     ]
    },
    {
     "cell_type": "code",
     "collapsed": false,
     "input": [
      "%%capture timeit_measures\n",
      "%timeit pairwise_python(X)\n",
      "%timeit pairwise_numpy(X)\n",
      "%timeit euclidean_distances(X, X)\n",
      "%timeit cdist(X, X)\n",
      "%timeit pairwise_cython(X)\n",
      "%timeit pairwise_fort(XF)\n",
      "%timeit pairwise_numba(X)"
     ],
     "language": "python",
     "metadata": {
      "slideshow": {
       "slide_type": "fragment"
      }
     },
     "outputs": [],
     "prompt_number": 13
    },
    {
     "cell_type": "code",
     "collapsed": false,
     "input": [
      "timeit_measures.show()"
     ],
     "language": "python",
     "metadata": {
      "slideshow": {
       "slide_type": "fragment"
      }
     },
     "outputs": [
      {
       "output_type": "stream",
       "stream": "stdout",
       "text": [
        "1 loops, best of 3: 7.19 s per loop\n",
        "10 loops, best of 3: 41.7 ms per loop\n",
        "100 loops, best of 3: 16.4 ms per loop\n",
        "100 loops, best of 3: 7.77 ms per loop\n",
        "100 loops, best of 3: 7.36 ms per loop\n",
        "100 loops, best of 3: 7.77 ms per loop\n",
        "1 loops, best of 3: 6.86 ms per loop\n"
       ]
      }
     ],
     "prompt_number": 14
    },
    {
     "cell_type": "markdown",
     "metadata": {
      "slideshow": {
       "slide_type": "slide"
      }
     },
     "source": [
      "## Massageando os dados"
     ]
    },
    {
     "cell_type": "code",
     "collapsed": false,
     "input": [
      "from pint import UnitRegistry\n",
      "ureg = UnitRegistry()\n",
      "\n",
      "labels = ['python\\nloop', 'numpy\\nbroadc.', 'sklearn', 'scipy', 'cython', 'fortran/\\nf2py', 'numba']\n",
      "times = []\n",
      "for line in timeit_measures.stdout.split('\\n')[:-1]:\n",
      "    value, unit = line.split(':')[-1].split('per')[0].strip().split()\n",
      "    times.append(ureg.Quantity(float(value), unit).to('seconds'))\n",
      "\n",
      "measures = list(reversed(sorted(zip(times, labels))))\n",
      "measures"
     ],
     "language": "python",
     "metadata": {},
     "outputs": [
      {
       "metadata": {},
       "output_type": "pyout",
       "prompt_number": 15,
       "text": [
        "[(<Quantity(7.19, 'second')>, 'python\\nloop'),\n",
        " (<Quantity(0.0417, 'second')>, 'numpy\\nbroadc.'),\n",
        " (<Quantity(0.0164, 'second')>, 'sklearn'),\n",
        " (<Quantity(0.00777, 'second')>, 'scipy'),\n",
        " (<Quantity(0.00777, 'second')>, 'fortran/\\nf2py'),\n",
        " (<Quantity(0.00736, 'second')>, 'cython'),\n",
        " (<Quantity(0.00686, 'second')>, 'numba')]"
       ]
      }
     ],
     "prompt_number": 15
    },
    {
     "cell_type": "markdown",
     "metadata": {
      "slideshow": {
       "slide_type": "slide"
      }
     },
     "source": [
      "## Comparando resultados"
     ]
    },
    {
     "cell_type": "code",
     "collapsed": false,
     "input": [
      "%pylab inline"
     ],
     "language": "python",
     "metadata": {
      "slideshow": {
       "slide_type": "skip"
      }
     },
     "outputs": [
      {
       "output_type": "stream",
       "stream": "stdout",
       "text": [
        "Populating the interactive namespace from numpy and matplotlib\n"
       ]
      },
      {
       "output_type": "stream",
       "stream": "stderr",
       "text": [
        "WARNING: pylab import has clobbered these variables: ['double']\n",
        "`%pylab --no-import-all` prevents importing * from pylab and numpy\n"
       ]
      }
     ],
     "prompt_number": 16
    },
    {
     "cell_type": "code",
     "collapsed": false,
     "input": [
      "labels = [m[1] for m in measures]\n",
      "timings = [m[0].magnitude for m in measures]\n",
      "x = np.arange(len(labels))\n",
      "\n",
      "ax = plt.axes(xticks=x, yscale='log')\n",
      "ax.bar(x - 0.3, timings, width=0.6, alpha=0.4, bottom=1E-6)\n",
      "ax.grid()\n",
      "ax.set_xlim(-0.5, len(labels) - 0.5)\n",
      "ax.set_ylim(1E-3, 1E2)\n",
      "ax.xaxis.set_major_formatter(plt.FuncFormatter(lambda i, loc: labels[int(i)]))\n",
      "ax.set_ylabel('time (s)')\n",
      "ax.set_title(\"Pairwise Distance Timings\")"
     ],
     "language": "python",
     "metadata": {},
     "outputs": [
      {
       "metadata": {},
       "output_type": "pyout",
       "prompt_number": 17,
       "text": [
        "<matplotlib.text.Text at 0x42b6950>"
       ]
      },
      {
       "metadata": {},
       "output_type": "display_data",
       "png": "[encoded data removed]",
       "text": [
        "<matplotlib.figure.Figure at 0x4205f90>"
       ]
      }
     ],
     "prompt_number": 17
    },
    {
     "cell_type": "markdown",
     "metadata": {
      "slideshow": {
       "slide_type": "slide"
      }
     },
     "source": [
      "## Apresenta\u00e7\u00e3o execut\u00e1vel\n",
      "\n",
      "https://github.com/luizirber/pythonbrasil9/blob/master/numba.ipynb\n",
      "\n",
      "  - Anaconda para depend\u00eancias\n",
      "  - pip install pint"
     ]
    },
    {
     "cell_type": "markdown",
     "metadata": {
      "slideshow": {
       "slide_type": "slide"
      }
     },
     "source": [
      "## Obrigado\n",
      "\n",
      "luizirber.org\n",
      "\n",
      "luiz.irber@gmail.com"
     ]
    }
   ],
   "metadata": {}
  }
 ]
}